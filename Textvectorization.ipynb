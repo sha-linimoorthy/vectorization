{
  "nbformat": 4,
  "nbformat_minor": 0,
  "metadata": {
    "colab": {
      "provenance": []
    },
    "kernelspec": {
      "name": "python3",
      "display_name": "Python 3"
    },
    "language_info": {
      "name": "python"
    }
  },
  "cells": [
    {
      "cell_type": "code",
      "source": [
        "import numpy as np\n",
        "import random"
      ],
      "metadata": {
        "id": "hqzSqV6lOPEm"
      },
      "execution_count": 2,
      "outputs": []
    },
    {
      "cell_type": "code",
      "source": [
        "x=np.random.rand(1000) #input \n",
        "w=np.random.rand(1000) #respected weight \n"
      ],
      "metadata": {
        "id": "ttkivfr2OS-A"
      },
      "execution_count": null,
      "outputs": []
    },
    {
      "cell_type": "code",
      "source": [
        "z=np.dot(w.transpose(),x)"
      ],
      "metadata": {
        "id": "R2EwjvnQOpsA"
      },
      "execution_count": null,
      "outputs": []
    },
    {
      "cell_type": "code",
      "source": [
        "#Text vectorization"
      ],
      "metadata": {
        "id": "erFe0GY0OqGb"
      },
      "execution_count": null,
      "outputs": []
    },
    {
      "cell_type": "code",
      "source": [
        "!pip install nltk"
      ],
      "metadata": {
        "id": "YBiHdWszQTRi"
      },
      "execution_count": 15,
      "outputs": []
    },
    {
      "cell_type": "code",
      "source": [
        "import pandas as pd\n",
        "import nltk\n",
        "from sklearn.feature_extraction.text import CountVectorizer\n"
      ],
      "metadata": {
        "id": "2OxUdfnnQXMm"
      },
      "execution_count": 27,
      "outputs": []
    },
    {
      "cell_type": "code",
      "source": [
        "nltk.download('punkt')"
      ],
      "metadata": {
        "id": "zpOwkyIfSK3K"
      },
      "execution_count": null,
      "outputs": []
    },
    {
      "cell_type": "code",
      "source": [
        "para=\"He was an expert but not in a discipline that anyone could fully appreciate. He knew how to hold the cone just right so that the soft server ice-cream fell into it at the precise angle to form a perfect cone each and every time. It had taken years to perfect and he could now do it without even putting any thought behind it. Nobody seemed to fully understand the beauty of this accomplishment except for the new worker who watched in amazement.\""
      ],
      "metadata": {
        "id": "Vb_9xJ-yRzjW"
      },
      "execution_count": 17,
      "outputs": []
    },
    {
      "cell_type": "code",
      "source": [
        "para_to_sen=nltk.tokenize.sent_tokenize(para)\n",
        "para_to_sen"
      ],
      "metadata": {
        "colab": {
          "base_uri": "https://localhost:8080/"
        },
        "id": "i7EWSOnpQXVf",
        "outputId": "6a16f4e5-c8eb-4127-ca00-c555d38c167c"
      },
      "execution_count": 26,
      "outputs": [
        {
          "output_type": "execute_result",
          "data": {
            "text/plain": [
              "['He was an expert but not in a discipline that anyone could fully appreciate.',\n",
              " 'He knew how to hold the cone just right so that the soft server ice-cream fell into it at the precise angle to form a perfect cone each and every time.',\n",
              " 'It had taken years to perfect and he could now do it without even putting any thought behind it.',\n",
              " 'Nobody seemed to fully understand the beauty of this accomplishment except for the new worker who watched in amazement.']"
            ]
          },
          "metadata": {},
          "execution_count": 26
        }
      ]
    },
    {
      "cell_type": "code",
      "source": [
        " CV=CountVectorizer()\n",
        "\n",
        "\n",
        "freq= CV.fit_transform(para_to_sen)\n",
        "\n",
        "print(freq.toarray())\n",
        "freq=CV.vocabulary_\n",
        "print(freq)\n",
        "\n"
      ],
      "metadata": {
        "colab": {
          "base_uri": "https://localhost:8080/"
        },
        "id": "YvNpzm0ASO73",
        "outputId": "afd52683-cc16-47bb-a6fa-2b8bba4a7720"
      },
      "execution_count": 54,
      "outputs": [
        {
          "output_type": "stream",
          "name": "stdout",
          "text": [
            "[[0 0 1 0 0 0 1 1 0 0 0 1 0 1 0 1 0 0 0 0 0 1 0 0 0 1 0 1 0 0 0 1 0 0 0 0\n",
            "  0 0 1 0 0 0 0 0 0 0 0 0 0 0 1 0 0 0 0 0 0 1 0 0 0 0 0]\n",
            " [0 0 0 1 1 0 0 0 1 0 0 0 2 0 1 0 0 1 0 1 0 0 1 0 1 0 0 1 1 1 1 0 1 1 1 1\n",
            "  0 0 0 0 0 1 1 0 1 0 1 1 1 0 1 3 0 0 1 2 0 0 0 0 0 0 0]\n",
            " [0 0 0 1 0 1 0 0 0 0 1 0 0 1 0 0 1 0 1 0 0 0 0 0 0 0 1 1 0 0 0 0 0 3 0 0\n",
            "  0 0 0 1 0 1 0 1 0 0 0 0 0 1 0 0 0 1 0 1 0 0 0 0 1 0 1]\n",
            " [1 1 0 0 0 0 0 0 0 1 0 0 0 0 0 0 0 0 0 0 1 0 0 1 0 1 0 0 0 0 0 1 0 0 0 0\n",
            "  1 1 0 0 1 0 0 0 0 1 0 0 0 0 0 2 1 0 0 1 1 0 1 1 0 1 0]]\n",
            "{'he': 27, 'was': 57, 'an': 2, 'expert': 21, 'but': 11, 'not': 38, 'in': 31, 'discipline': 15, 'that': 50, 'anyone': 6, 'could': 13, 'fully': 25, 'appreciate': 7, 'knew': 35, 'how': 29, 'to': 55, 'hold': 28, 'the': 51, 'cone': 12, 'just': 34, 'right': 44, 'so': 47, 'soft': 48, 'server': 46, 'ice': 30, 'cream': 14, 'fell': 22, 'into': 32, 'it': 33, 'at': 8, 'precise': 42, 'angle': 4, 'form': 24, 'perfect': 41, 'each': 17, 'and': 3, 'every': 19, 'time': 54, 'had': 26, 'taken': 49, 'years': 62, 'now': 39, 'do': 16, 'without': 60, 'even': 18, 'putting': 43, 'any': 5, 'thought': 53, 'behind': 10, 'nobody': 37, 'seemed': 45, 'understand': 56, 'beauty': 9, 'of': 40, 'this': 52, 'accomplishment': 0, 'except': 20, 'for': 23, 'new': 36, 'worker': 61, 'who': 59, 'watched': 58, 'amazement': 1}\n"
          ]
        }
      ]
    },
    {
      "cell_type": "code",
      "source": [
        "df=pd.DataFrame(data=freq,index=[10])\n",
        "df"
      ],
      "metadata": {
        "colab": {
          "base_uri": "https://localhost:8080/",
          "height": 110
        },
        "id": "YpeYqUbyWAwp",
        "outputId": "04d14232-8b6e-489f-8e0a-6585a8171a74"
      },
      "execution_count": 46,
      "outputs": [
        {
          "output_type": "execute_result",
          "data": {
            "text/plain": [
              "    he  was  an  expert  but  not  in  discipline  that  anyone  ...  of  \\\n",
              "10  27   57   2      21   11   38  31          15    50       6  ...  40   \n",
              "\n",
              "    this  accomplishment  except  for  new  worker  who  watched  amazement  \n",
              "10    52               0      20   23   36      61   59       58          1  \n",
              "\n",
              "[1 rows x 63 columns]"
            ],
            "text/html": [
              "\n",
              "  <div id=\"df-3b998978-07e8-4dca-b2ea-b2d9e1e6a0a7\">\n",
              "    <div class=\"colab-df-container\">\n",
              "      <div>\n",
              "<style scoped>\n",
              "    .dataframe tbody tr th:only-of-type {\n",
              "        vertical-align: middle;\n",
              "    }\n",
              "\n",
              "    .dataframe tbody tr th {\n",
              "        vertical-align: top;\n",
              "    }\n",
              "\n",
              "    .dataframe thead th {\n",
              "        text-align: right;\n",
              "    }\n",
              "</style>\n",
              "<table border=\"1\" class=\"dataframe\">\n",
              "  <thead>\n",
              "    <tr style=\"text-align: right;\">\n",
              "      <th></th>\n",
              "      <th>he</th>\n",
              "      <th>was</th>\n",
              "      <th>an</th>\n",
              "      <th>expert</th>\n",
              "      <th>but</th>\n",
              "      <th>not</th>\n",
              "      <th>in</th>\n",
              "      <th>discipline</th>\n",
              "      <th>that</th>\n",
              "      <th>anyone</th>\n",
              "      <th>...</th>\n",
              "      <th>of</th>\n",
              "      <th>this</th>\n",
              "      <th>accomplishment</th>\n",
              "      <th>except</th>\n",
              "      <th>for</th>\n",
              "      <th>new</th>\n",
              "      <th>worker</th>\n",
              "      <th>who</th>\n",
              "      <th>watched</th>\n",
              "      <th>amazement</th>\n",
              "    </tr>\n",
              "  </thead>\n",
              "  <tbody>\n",
              "    <tr>\n",
              "      <th>10</th>\n",
              "      <td>27</td>\n",
              "      <td>57</td>\n",
              "      <td>2</td>\n",
              "      <td>21</td>\n",
              "      <td>11</td>\n",
              "      <td>38</td>\n",
              "      <td>31</td>\n",
              "      <td>15</td>\n",
              "      <td>50</td>\n",
              "      <td>6</td>\n",
              "      <td>...</td>\n",
              "      <td>40</td>\n",
              "      <td>52</td>\n",
              "      <td>0</td>\n",
              "      <td>20</td>\n",
              "      <td>23</td>\n",
              "      <td>36</td>\n",
              "      <td>61</td>\n",
              "      <td>59</td>\n",
              "      <td>58</td>\n",
              "      <td>1</td>\n",
              "    </tr>\n",
              "  </tbody>\n",
              "</table>\n",
              "<p>1 rows × 63 columns</p>\n",
              "</div>\n",
              "      <button class=\"colab-df-convert\" onclick=\"convertToInteractive('df-3b998978-07e8-4dca-b2ea-b2d9e1e6a0a7')\"\n",
              "              title=\"Convert this dataframe to an interactive table.\"\n",
              "              style=\"display:none;\">\n",
              "        \n",
              "  <svg xmlns=\"http://www.w3.org/2000/svg\" height=\"24px\"viewBox=\"0 0 24 24\"\n",
              "       width=\"24px\">\n",
              "    <path d=\"M0 0h24v24H0V0z\" fill=\"none\"/>\n",
              "    <path d=\"M18.56 5.44l.94 2.06.94-2.06 2.06-.94-2.06-.94-.94-2.06-.94 2.06-2.06.94zm-11 1L8.5 8.5l.94-2.06 2.06-.94-2.06-.94L8.5 2.5l-.94 2.06-2.06.94zm10 10l.94 2.06.94-2.06 2.06-.94-2.06-.94-.94-2.06-.94 2.06-2.06.94z\"/><path d=\"M17.41 7.96l-1.37-1.37c-.4-.4-.92-.59-1.43-.59-.52 0-1.04.2-1.43.59L10.3 9.45l-7.72 7.72c-.78.78-.78 2.05 0 2.83L4 21.41c.39.39.9.59 1.41.59.51 0 1.02-.2 1.41-.59l7.78-7.78 2.81-2.81c.8-.78.8-2.07 0-2.86zM5.41 20L4 18.59l7.72-7.72 1.47 1.35L5.41 20z\"/>\n",
              "  </svg>\n",
              "      </button>\n",
              "      \n",
              "  <style>\n",
              "    .colab-df-container {\n",
              "      display:flex;\n",
              "      flex-wrap:wrap;\n",
              "      gap: 12px;\n",
              "    }\n",
              "\n",
              "    .colab-df-convert {\n",
              "      background-color: #E8F0FE;\n",
              "      border: none;\n",
              "      border-radius: 50%;\n",
              "      cursor: pointer;\n",
              "      display: none;\n",
              "      fill: #1967D2;\n",
              "      height: 32px;\n",
              "      padding: 0 0 0 0;\n",
              "      width: 32px;\n",
              "    }\n",
              "\n",
              "    .colab-df-convert:hover {\n",
              "      background-color: #E2EBFA;\n",
              "      box-shadow: 0px 1px 2px rgba(60, 64, 67, 0.3), 0px 1px 3px 1px rgba(60, 64, 67, 0.15);\n",
              "      fill: #174EA6;\n",
              "    }\n",
              "\n",
              "    [theme=dark] .colab-df-convert {\n",
              "      background-color: #3B4455;\n",
              "      fill: #D2E3FC;\n",
              "    }\n",
              "\n",
              "    [theme=dark] .colab-df-convert:hover {\n",
              "      background-color: #434B5C;\n",
              "      box-shadow: 0px 1px 3px 1px rgba(0, 0, 0, 0.15);\n",
              "      filter: drop-shadow(0px 1px 2px rgba(0, 0, 0, 0.3));\n",
              "      fill: #FFFFFF;\n",
              "    }\n",
              "  </style>\n",
              "\n",
              "      <script>\n",
              "        const buttonEl =\n",
              "          document.querySelector('#df-3b998978-07e8-4dca-b2ea-b2d9e1e6a0a7 button.colab-df-convert');\n",
              "        buttonEl.style.display =\n",
              "          google.colab.kernel.accessAllowed ? 'block' : 'none';\n",
              "\n",
              "        async function convertToInteractive(key) {\n",
              "          const element = document.querySelector('#df-3b998978-07e8-4dca-b2ea-b2d9e1e6a0a7');\n",
              "          const dataTable =\n",
              "            await google.colab.kernel.invokeFunction('convertToInteractive',\n",
              "                                                     [key], {});\n",
              "          if (!dataTable) return;\n",
              "\n",
              "          const docLinkHtml = 'Like what you see? Visit the ' +\n",
              "            '<a target=\"_blank\" href=https://colab.research.google.com/notebooks/data_table.ipynb>data table notebook</a>'\n",
              "            + ' to learn more about interactive tables.';\n",
              "          element.innerHTML = '';\n",
              "          dataTable['output_type'] = 'display_data';\n",
              "          await google.colab.output.renderOutput(dataTable, element);\n",
              "          const docLink = document.createElement('div');\n",
              "          docLink.innerHTML = docLinkHtml;\n",
              "          element.appendChild(docLink);\n",
              "        }\n",
              "      </script>\n",
              "    </div>\n",
              "  </div>\n",
              "  "
            ]
          },
          "metadata": {},
          "execution_count": 46
        }
      ]
    }
  ]
}